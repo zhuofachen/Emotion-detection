{
  "nbformat": 4,
  "nbformat_minor": 0,
  "metadata": {
    "colab": {
      "name": "Saliency_map.ipynb",
      "provenance": [],
      "authorship_tag": "ABX9TyNYMH2k+4nuQKiLy4JFIbVd",
      "include_colab_link": true
    },
    "kernelspec": {
      "name": "python3",
      "display_name": "Python 3"
    },
    "language_info": {
      "name": "python"
    },
    "accelerator": "GPU"
  },
  "cells": [
    {
      "cell_type": "markdown",
      "metadata": {
        "id": "view-in-github",
        "colab_type": "text"
      },
      "source": [
        "<a href=\"https://colab.research.google.com/github/zhuofachen/Emotion-detection/blob/master/Saliency_map.ipynb\" target=\"_parent\"><img src=\"https://colab.research.google.com/assets/colab-badge.svg\" alt=\"Open In Colab\"/></a>"
      ]
    },
    {
      "cell_type": "code",
      "metadata": {
        "id": "OREbBJk0rrVL"
      },
      "source": [
        ""
      ],
      "execution_count": null,
      "outputs": []
    },
    {
      "cell_type": "code",
      "metadata": {
        "id": "I9aoI9iKrtEf"
      },
      "source": [
        "import torch.nn as nn\n",
        "import torch.nn.functional as F\n",
        "import torchvision\n",
        "\n",
        "\n",
        "class VggFeatures(nn.Module):\n",
        "    def __init__(self, drop=0.2):\n",
        "        super().__init__()\n",
        "\n",
        "        self.conv1a = nn.Conv2d(in_channels=1, out_channels=64, kernel_size=3, padding=1)\n",
        "        self.conv1b = nn.Conv2d(64, out_channels=64, kernel_size=3, padding=1)\n",
        "\n",
        "        self.conv2a = nn.Conv2d(64, 128, 3, padding=1)\n",
        "        self.conv2b = nn.Conv2d(128, 128, 3, padding=1)\n",
        "\n",
        "        self.conv3a = nn.Conv2d(128, 256, 3, padding=1)\n",
        "        self.conv3b = nn.Conv2d(256, 256, 3, padding=1)\n",
        "\n",
        "        self.conv4a = nn.Conv2d(256, 512, 3, padding=1)\n",
        "        self.conv4b = nn.Conv2d(512, 512, 3, padding=1)\n",
        "\n",
        "        self.pool = nn.MaxPool2d(kernel_size=2, stride=2)\n",
        "\n",
        "        self.bn1a = nn.BatchNorm2d(64)\n",
        "        self.bn1b = nn.BatchNorm2d(64)\n",
        "\n",
        "        self.bn2a = nn.BatchNorm2d(128)\n",
        "        self.bn2b = nn.BatchNorm2d(128)\n",
        "\n",
        "        self.bn3a = nn.BatchNorm2d(256)\n",
        "        self.bn3b = nn.BatchNorm2d(256)\n",
        "\n",
        "        self.bn4a = nn.BatchNorm2d(512)\n",
        "        self.bn4b = nn.BatchNorm2d(512)\n",
        "\n",
        "        self.lin1 = nn.Linear(512 * 2 * 2, 4096)\n",
        "        self.lin2 = nn.Linear(4096, 4096)\n",
        "\n",
        "        self.drop = nn.Dropout(p=drop)\n",
        "\n",
        "    def forward(self, x):\n",
        "        x = F.relu(self.bn1a(self.conv1a(x)))\n",
        "        x = F.relu(self.bn1b(self.conv1b(x)))\n",
        "        x = self.pool(x)\n",
        "\n",
        "        x = F.relu(self.bn2a(self.conv2a(x)))\n",
        "        x = F.relu(self.bn2b(self.conv2b(x)))\n",
        "        x = self.pool(x)\n",
        "\n",
        "        x = F.relu(self.bn3a(self.conv3a(x)))\n",
        "        x = F.relu(self.bn3b(self.conv3b(x)))\n",
        "        x = self.pool(x)\n",
        "\n",
        "        x = F.relu(self.bn4a(self.conv4a(x)))\n",
        "        x = F.relu(self.bn4b(self.conv4b(x)))\n",
        "        x = self.pool(x)\n",
        "        # print(x.shape)\n",
        "\n",
        "        x = x.view(-1, 512 * 2 * 2)\n",
        "        x = F.relu(self.drop(self.lin1(x)))\n",
        "        x = F.relu(self.drop(self.lin2(x)))\n",
        "\n",
        "        return x\n",
        "\n",
        "\n",
        "class Vgg(VggFeatures):\n",
        "    def __init__(self, drop=0.2):\n",
        "        super().__init__(drop)\n",
        "        self.lin3 = nn.Linear(4096, 7)\n",
        "\n",
        "    def forward(self, x):\n",
        "        x = super().forward(x)\n",
        "        x = self.lin3(x)\n",
        "        return x\n"
      ],
      "execution_count": 4,
      "outputs": []
    },
    {
      "cell_type": "code",
      "metadata": {
        "id": "ftIu5uNeryFT"
      },
      "source": [
        "# image = Image.open('<FILE_NAME_ON_JPG_OR_OTHERS>')\n",
        "\n",
        "# # Set up the transformations\n",
        "# transform_ = transforms.Compose([\n",
        "# \t\ttransforms.Resize(256),\n",
        "# \t\ttransforms.CenterCrop(224),\n",
        "# \t\ttransforms.Normalize(),\n",
        "# \t\ttransforms.ToTensor(),\n",
        "# ])\n",
        "\n",
        "# # Transforms the image\n",
        "# image = transform_(image)\n",
        "\n",
        "import numpy as np\n",
        "import pandas as pd\n",
        "import torchvision.transforms as transforms\n",
        "from torch.utils.data import DataLoader\n",
        "\n",
        "import numpy as np\n",
        "import torch\n",
        "from PIL import Image\n",
        "from torch.utils.data import Dataset\n",
        "\n",
        "\n",
        "class CustomDataset(Dataset):\n",
        "    def __init__(self, images, labels, transform=None):\n",
        "        self.images = images\n",
        "        self.labels = labels\n",
        "        self.transform = transform\n",
        "\n",
        "    def __len__(self):\n",
        "        return len(self.images)\n",
        "\n",
        "    def __getitem__(self, idx):\n",
        "        if torch.is_tensor(idx):\n",
        "            idx = idx.tolist()\n",
        "\n",
        "        img = Image.fromarray(np.array(self.images[idx]))\n",
        "\n",
        "        if self.transform:\n",
        "            img = self.transform(img)\n",
        "\n",
        "        label = torch.tensor(self.labels[idx]).type(torch.long)\n",
        "        sample = (img, label)\n",
        "\n",
        "        return sample\n",
        "\n",
        "\n",
        "\n",
        "\n",
        "\n",
        "def load_data(path='fer2013.csv'):\n",
        "    fer2013 = pd.read_csv(path)\n",
        "    emotion_mapping = {0: 'Angry', 1: 'Disgust', 2: 'Fear', 3: 'Happy', 4: 'Sad', 5: 'Surprise', 6: 'Neutral'}\n",
        "\n",
        "    return fer2013, emotion_mapping\n",
        "\n",
        "\n",
        "def prepare_data(data):\n",
        "    \"\"\" Prepare data for modeling\n",
        "        input: data frame with labels und pixel data\n",
        "        output: image and label array \"\"\"\n",
        "\n",
        "    image_array = np.zeros(shape=(len(data), 48, 48))\n",
        "    image_label = np.array(list(map(int, data['emotion'])))\n",
        "\n",
        "    for i, row in enumerate(data.index):\n",
        "        image = np.fromstring(data.loc[row, 'pixels'], dtype=int, sep=' ')\n",
        "        image = np.reshape(image, (48, 48))\n",
        "        image_array[i] = image\n",
        "\n",
        "    return image_array, image_label\n",
        "\n",
        "\n",
        "def get_dataloaders(path='fer2013.csv', augment=False):\n",
        "    \"\"\" Prepare train, val, & test dataloaders\n",
        "        Augment training data using:\n",
        "            - cropping\n",
        "            - shifting (vertical/horizental)\n",
        "            - horizental flipping\n",
        "            - rotation\n",
        "        input: path to fer2013 csv file\n",
        "        output: (Dataloader, Dataloader, Dataloader) \"\"\"\n",
        "\n",
        "    fer2013, emotion_mapping = load_data(path)\n",
        "\n",
        "    xtrain, ytrain = prepare_data(fer2013[fer2013['Usage'] == 'Training'])\n",
        "    xval, yval = prepare_data(fer2013[fer2013['Usage'] == 'PrivateTest'])\n",
        "    xtest, ytest = prepare_data(fer2013[fer2013['Usage'] == 'PublicTest'])\n",
        "\n",
        "    mu, st = 0, 255\n",
        "    test_transform = transforms.Compose([\n",
        "        transforms.CenterCrop(40),\n",
        "        transforms.ToTensor(),\n",
        "        transforms.Normalize(mean=(mu,), std=(st,))\n",
        "    ])\n",
        "    \n",
        "\n",
        "\n",
        "    if augment:\n",
        "        train_transform = transforms.Compose([\n",
        "            transforms.RandomResizedCrop(48, scale=(0.8, 1.2)),\n",
        "            transforms.RandomApply([transforms.RandomAffine(0, translate=(0.2, 0.2))], p=0.5),\n",
        "            transforms.RandomHorizontalFlip(),\n",
        "            transforms.RandomApply([transforms.RandomRotation(10)], p=0.5),\n",
        "\n",
        "            transforms.TenCrop(40),\n",
        "            transforms.Lambda(lambda crops: torch.stack([transforms.ToTensor()(crop) for crop in crops])),\n",
        "            transforms.Lambda(lambda tensors: torch.stack([transforms.Normalize(mean=(mu,), std=(st,))(t) for t in tensors])),\n",
        "\n",
        "            # transforms.ToTensor(),\n",
        "            # transforms.Normalize(mean=(mu,), std=(st,))\n",
        "        ])\n",
        "    else:\n",
        "        train_transform = test_transform\n",
        "\n",
        "    train = CustomDataset(xtrain, ytrain, train_transform)\n",
        "    val = CustomDataset(xval, yval, test_transform)\n",
        "    test = CustomDataset(xtest, ytest, test_transform)\n",
        "\n",
        "    trainloader = DataLoader(train, batch_size=1, shuffle=True, num_workers=2)\n",
        "    valloader = DataLoader(val, batch_size=1, shuffle=True, num_workers=2)\n",
        "    testloader = DataLoader(test, batch_size=1, shuffle=True, num_workers=2)\n",
        "\n",
        "    return trainloader, valloader, testloader\n",
        "\n",
        "trainloader, valloader, testloader = get_dataloaders()"
      ],
      "execution_count": 5,
      "outputs": []
    },
    {
      "cell_type": "code",
      "metadata": {
        "colab": {
          "base_uri": "https://localhost:8080/",
          "height": 855
        },
        "id": "dcsSwSFfwCg8",
        "outputId": "709eebca-7d68-4f2e-bee5-c3052501243a"
      },
      "source": [
        "from matplotlib import pyplot as plt \n",
        "for img, label in trainloader:\n",
        "  imgtmp = torch.squeeze(img)\n",
        "  plt.imshow(imgtmp, cmap = 'gray')\n",
        "  break\n",
        "\n",
        "device = torch.device(\"cuda:0\" if torch.cuda.is_available() else \"cpu\")\n",
        "checkpoint = torch.load('epoch_420')\n",
        "net = Vgg().to(device)\n",
        "net.load_state_dict(checkpoint[\"params\"])\n",
        "net.eval()\n",
        "img = img.to(device)\n",
        "img.requires_grad_()\n",
        "output = net(img)\n",
        "output_idx = output.argmax()\n",
        "output_max = output[0, output_idx]\n",
        "output_max.backward()\n",
        "\n",
        "saliency, _ = torch.max(img.grad.data.abs(), dim=1) \n",
        "saliency = saliency.reshape(40, 40)\n",
        "\n",
        "plt.figure()\n",
        "plt.imshow(imgtmp, cmap='gray')\n",
        "plt.imshow(saliency.cpu(), cmap='hot', alpha=0.5)\n",
        "plt.axis('off')\n",
        "\n",
        "plt.show()\n",
        "plt.figure()\n",
        "# Visualize the image and the saliency map\n",
        "fig, ax = plt.subplots(1, 2)\n",
        "ax[0].imshow(imgtmp)\n",
        "ax[0].axis('off')\n",
        "ax[1].imshow(saliency.cpu(), cmap='hot')\n",
        "ax[1].axis('off')\n",
        "plt.tight_layout()\n",
        "fig.suptitle('The Image and Its Saliency Map')\n",
        "plt.show()"
      ],
      "execution_count": 36,
      "outputs": [
        {
          "output_type": "stream",
          "text": [
            "/usr/local/lib/python3.7/dist-packages/torchvision/transforms/functional.py:132: UserWarning: The given NumPy array is not writeable, and PyTorch does not support non-writeable tensors. This means you can write to the underlying (supposedly non-writeable) NumPy array using the tensor. You may want to copy the array to protect its data or make it writeable before converting it to a tensor. This type of warning will be suppressed for the rest of this program. (Triggered internally at  /pytorch/torch/csrc/utils/tensor_numpy.cpp:143.)\n",
            "  img = torch.from_numpy(np.array(pic, np.float32, copy=False))\n",
            "/usr/local/lib/python3.7/dist-packages/torchvision/transforms/functional.py:132: UserWarning: The given NumPy array is not writeable, and PyTorch does not support non-writeable tensors. This means you can write to the underlying (supposedly non-writeable) NumPy array using the tensor. You may want to copy the array to protect its data or make it writeable before converting it to a tensor. This type of warning will be suppressed for the rest of this program. (Triggered internally at  /pytorch/torch/csrc/utils/tensor_numpy.cpp:143.)\n",
            "  img = torch.from_numpy(np.array(pic, np.float32, copy=False))\n"
          ],
          "name": "stderr"
        },
        {
          "output_type": "display_data",
          "data": {
            "image/png": "[encoded data removed]",
            "text/plain": [
              "<Figure size 432x288 with 1 Axes>"
            ]
          },
          "metadata": {
            "tags": [],
            "needs_background": "light"
          }
        },
        {
          "output_type": "display_data",
          "data": {
            "image/png": "[encoded data removed]",
            "text/plain": [
              "<Figure size 432x288 with 1 Axes>"
            ]
          },
          "metadata": {
            "tags": [],
            "needs_background": "light"
          }
        },
        {
          "output_type": "display_data",
          "data": {
            "text/plain": [
              "<Figure size 432x288 with 0 Axes>"
            ]
          },
          "metadata": {
            "tags": []
          }
        },
        {
          "output_type": "display_data",
          "data": {
            "image/png": "[encoded data removed]",
            "text/plain": [
              "<Figure size 432x288 with 2 Axes>"
            ]
          },
          "metadata": {
            "tags": [],
            "needs_background": "light"
          }
        }
      ]
    },
    {
      "cell_type": "code",
      "metadata": {
        "colab": {
          "base_uri": "https://localhost:8080/",
          "height": 661
        },
        "id": "0A6qvgjC1UAr",
        "outputId": "105a5682-b583-4701-f59f-0f0bceec65e3"
      },
      "source": [
        "\n",
        "saliency, _ = torch.max(img.grad.data.abs(), dim=1) \n",
        "# saliency = (saliency - min(saliency))/(max(saliency) - min(saliency))\n",
        "saliency = saliency.reshape(40, 40) \n",
        "\n",
        "\n",
        "F1 = plt.figure(figsize = (6, 6))\n",
        "plt.imshow(imgtmp, cmap='gray')\n",
        "plt.imshow(saliency.cpu(), cmap='hot', alpha=0.5)\n",
        "plt.axis('off')\n",
        "plt.colorbar()\n",
        "plt.show()\n",
        "plt.savefig('superimpose.png')\n",
        "\n",
        "# Visualize the image and the saliency map\n",
        "fig, ax = plt.subplots(1, 2, figsize = (10, 5))\n",
        "ax[0].imshow(imgtmp, cmap = 'gray')\n",
        "ax[0].axis('off')\n",
        "im = ax[1].imshow(saliency.cpu(), cmap='hot')\n",
        "ax[1].axis('off')\n",
        "# plt.tight_layout()\n",
        "# fig.suptitle('The Image and Its Saliency Map')\n",
        "# fig.colorbar(im, ax = ax[1])\n",
        "plt.show()\n",
        "plt.savefig('original_saliency_map.png')\n",
        "\n"
      ],
      "execution_count": 54,
      "outputs": [
        {
          "output_type": "display_data",
          "data": {
            "image/png": "[encoded data removed]",
            "text/plain": [
              "<Figure size 432x432 with 2 Axes>"
            ]
          },
          "metadata": {
            "tags": [],
            "needs_background": "light"
          }
        },
        {
          "output_type": "display_data",
          "data": {
            "text/plain": [
              "<Figure size 432x288 with 0 Axes>"
            ]
          },
          "metadata": {
            "tags": []
          }
        },
        {
          "output_type": "display_data",
          "data": {
            "image/png": "[encoded data removed]",
            "text/plain": [
              "<Figure size 720x360 with 2 Axes>"
            ]
          },
          "metadata": {
            "tags": [],
            "needs_background": "light"
          }
        },
        {
          "output_type": "display_data",
          "data": {
            "text/plain": [
              "<Figure size 432x288 with 0 Axes>"
            ]
          },
          "metadata": {
            "tags": []
          }
        }
      ]
    },
    {
      "cell_type": "code",
      "metadata": {
        "id": "5xUTXgab3t0d"
      },
      "source": [
        ""
      ],
      "execution_count": null,
      "outputs": []
    }
  ]
}